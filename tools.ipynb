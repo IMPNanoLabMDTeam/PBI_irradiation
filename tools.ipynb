{
 "cells": [
  {
   "cell_type": "code",
   "execution_count": 4,
   "metadata": {},
   "outputs": [
    {
     "name": "stdout",
     "output_type": "stream",
     "text": [
      "35.6691775385\n",
      "30.997529833999998\n",
      "23.230517904\n"
     ]
    }
   ],
   "source": [
    "def halflength(a,b):\n",
    "    return abs((a-b)/2)\n",
    "\n",
    "x1 = -50.838123865\n",
    "x2 = 20.500231212\n",
    "print(halflength(x1,x2))\n",
    "\n",
    "y1 = -1.226718809\n",
    "y2 = 60.768340859\n",
    "print(halflength(y1,y2))\n",
    "\n",
    "z1 = -41.076234133\n",
    "z2 = 5.384801675\n",
    "print(halflength(z1,z2))"
   ]
  },
  {
   "cell_type": "code",
   "execution_count": null,
   "metadata": {},
   "outputs": [],
   "source": []
  },
  {
   "cell_type": "code",
   "execution_count": null,
   "metadata": {},
   "outputs": [],
   "source": []
  }
 ],
 "metadata": {
  "kernelspec": {
   "display_name": ".venv",
   "language": "python",
   "name": "python3"
  },
  "language_info": {
   "codemirror_mode": {
    "name": "ipython",
    "version": 3
   },
   "file_extension": ".py",
   "mimetype": "text/x-python",
   "name": "python",
   "nbconvert_exporter": "python",
   "pygments_lexer": "ipython3",
   "version": "3.9.6"
  }
 },
 "nbformat": 4,
 "nbformat_minor": 2
}
